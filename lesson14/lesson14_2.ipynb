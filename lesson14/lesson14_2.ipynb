{
 "cells": [
  {
   "cell_type": "code",
   "execution_count": null,
   "id": "bb7f9631",
   "metadata": {},
   "outputs": [
    {
     "data": {
      "text/plain": [
       "array([72.4, 80.6, 71.2, 75.2, 79.2, 70.4, 78.4, 68.2, 72.6, 82.8, 70. ,\n",
       "       81. , 68.8, 72.6, 69.2, 79.4, 80.2, 74.2, 78.4, 76.2, 75.8, 81. ,\n",
       "       72. , 72.8, 83.8, 84.4, 71.6, 65.6, 68.8, 78.8, 76.4, 74.8, 79.4,\n",
       "       78.8, 73.8, 71.2, 73. , 70.8, 84. , 75.8, 68.8, 70.8, 74.2, 80.8,\n",
       "       79.6, 76. , 70.4, 80.2, 67.4, 60.4])"
      ]
     },
     "execution_count": 10,
     "metadata": {},
     "output_type": "execute_result"
    }
   ],
   "source": [
    "import numpy as np\n",
    "arr = np.arange(10)\n",
    "np.random.randint(50, 101, size=5)\n",
    "t =np.random.randint(50, 101, size=(50,5)) #產生一個 50 列（rows）、5 欄（columns） 的 2 維陣列。\n",
    "#axis=0 👉 沿著 列方向（垂直），也就是 跨列、對每一欄做運算\n",
    "#axis=1 👉 沿著 欄方向（水平），也就是 跨欄、對每一列做運算\n",
    "np.sum(t, axis=1)\n",
    "np.mean(t, axis=1)"
   ]
  },
  {
   "cell_type": "code",
   "execution_count": null,
   "id": "cf246e55",
   "metadata": {},
   "outputs": [],
   "source": [
    "arr = np.random.randn(5)\n",
    "np.where(arr > 0, 1 ,0) #if Trun = 1 False = 0 "
   ]
  }
 ],
 "metadata": {
  "kernelspec": {
   "display_name": "base",
   "language": "python",
   "name": "python3"
  },
  "language_info": {
   "codemirror_mode": {
    "name": "ipython",
    "version": 3
   },
   "file_extension": ".py",
   "mimetype": "text/x-python",
   "name": "python",
   "nbconvert_exporter": "python",
   "pygments_lexer": "ipython3",
   "version": "3.12.9"
  }
 },
 "nbformat": 4,
 "nbformat_minor": 5
}
