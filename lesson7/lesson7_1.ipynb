{
 "cells": [
  {
   "cell_type": "code",
   "execution_count": 1,
   "id": "708d1652",
   "metadata": {},
   "outputs": [],
   "source": [
    "def menu(wine, entree, dessert):\n",
    "    print(f'前酒{wine}')\n",
    "    print(f'主餐{entree}')\n",
    "    print(f'甜點{dessert}')\n"
   ]
  },
  {
   "cell_type": "code",
   "execution_count": 2,
   "id": "c1486b44",
   "metadata": {},
   "outputs": [
    {
     "name": "stdout",
     "output_type": "stream",
     "text": [
      "前酒白酒\n",
      "主餐牛排\n",
      "甜點蛋糕\n"
     ]
    }
   ],
   "source": [
    "menu(\"白酒\", \"牛排\", \"蛋糕\")\n",
    "#混合呼叫 menu(\"白酒\", dessert = \"蛋糕\", entree = \"牛排\") 引數值須按順序 引數名稱則不用"
   ]
  },
  {
   "cell_type": "code",
   "execution_count": null,
   "id": "0a908409",
   "metadata": {},
   "outputs": [],
   "source": [
    "#**參數 會變成字典\n",
    "def test(**args):\n",
    "    print(args)"
   ]
  },
  {
   "cell_type": "code",
   "execution_count": 8,
   "id": "fb825030",
   "metadata": {},
   "outputs": [
    {
     "name": "stdout",
     "output_type": "stream",
     "text": [
      "{'one': 1, 'two': 2, 'three': 4, 'four': 4, 'five': 5}\n"
     ]
    }
   ],
   "source": [
    "test(one = 1,two = 2, three = 4, four = 4, five = 5)"
   ]
  },
  {
   "cell_type": "code",
   "execution_count": null,
   "id": "4cf2f6ff",
   "metadata": {},
   "outputs": [],
   "source": [
    "#混合*與** #*agrs 變為tuple \n",
    "def mixed(*args, **kwargs):\n",
    "    print(args)\n",
    "    print(kwargs)"
   ]
  },
  {
   "cell_type": "code",
   "execution_count": 11,
   "id": "b66a5de2",
   "metadata": {},
   "outputs": [
    {
     "name": "stdout",
     "output_type": "stream",
     "text": [
      "('a', 'b', 1, 2)\n",
      "{'one': 1, 'tow': 2}\n"
     ]
    }
   ],
   "source": [
    "mixed(\"a\", \"b\", 1, 2, one = 1 ,tow= 2)"
   ]
  },
  {
   "cell_type": "code",
   "execution_count": 4,
   "id": "cd4ca623",
   "metadata": {},
   "outputs": [
    {
     "data": {
      "text/plain": [
       "('星期一', '二', '三', '四', '五', '六', '日')"
      ]
     },
     "execution_count": 4,
     "metadata": {},
     "output_type": "execute_result"
    }
   ],
   "source": [
    "weekdays = (\"星期一\", \"二\", \"三\", \"四\", \"五\", \"六\", \"日\")\n",
    "weekdays\n",
    "#tuple 不可變變數"
   ]
  },
  {
   "cell_type": "code",
   "execution_count": null,
   "id": "cdd6e824",
   "metadata": {},
   "outputs": [
    {
     "data": {
      "text/plain": [
       "'robert'"
      ]
     },
     "execution_count": 5,
     "metadata": {},
     "output_type": "execute_result"
    }
   ],
   "source": [
    "name, age, score = (\"robert\" , 35, 345)\n",
    "name"
   ]
  }
 ],
 "metadata": {
  "kernelspec": {
   "display_name": "base",
   "language": "python",
   "name": "python3"
  },
  "language_info": {
   "codemirror_mode": {
    "name": "ipython",
    "version": 3
   },
   "file_extension": ".py",
   "mimetype": "text/x-python",
   "name": "python",
   "nbconvert_exporter": "python",
   "pygments_lexer": "ipython3",
   "version": "3.12.9"
  }
 },
 "nbformat": 4,
 "nbformat_minor": 5
}
