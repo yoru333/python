{
 "cells": [
  {
   "cell_type": "code",
   "execution_count": null,
   "id": "7b8fb903",
   "metadata": {},
   "outputs": [
    {
     "name": "stdout",
     "output_type": "stream",
     "text": [
      "hollo python\n"
     ]
    }
   ],
   "source": [
    "print(\"hollo python\")"
   ]
  },
  {
   "cell_type": "code",
   "execution_count": 3,
   "id": "7c20c69d",
   "metadata": {},
   "outputs": [
    {
     "name": "stdout",
     "output_type": "stream",
     "text": [
      "toal= 40\n"
     ]
    }
   ],
   "source": [
    "n = 15\n",
    "m = 25\n",
    "total = n + m\n",
    "print(\"toal=\", total)"
   ]
  }
 ],
 "metadata": {
  "kernelspec": {
   "display_name": "base",
   "language": "python",
   "name": "python3"
  },
  "language_info": {
   "codemirror_mode": {
    "name": "ipython",
    "version": 3
   },
   "file_extension": ".py",
   "mimetype": "text/x-python",
   "name": "python",
   "nbconvert_exporter": "python",
   "pygments_lexer": "ipython3",
   "version": "3.12.9"
  }
 },
 "nbformat": 4,
 "nbformat_minor": 5
}
