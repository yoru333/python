{
 "cells": [
  {
   "cell_type": "code",
   "execution_count": 1,
   "id": "1e3feb56",
   "metadata": {},
   "outputs": [
    {
     "name": "stdout",
     "output_type": "stream",
     "text": [
      "嗨\n",
      "你好\n"
     ]
    }
   ],
   "source": [
    "if True:\n",
    "    print(\"嗨\")\n",
    "else:\n",
    "    print(\"滾\")\n",
    "print(\"你好\")"
   ]
  },
  {
   "cell_type": "code",
   "execution_count": 2,
   "id": "0870b7fe",
   "metadata": {},
   "outputs": [
    {
     "name": "stdout",
     "output_type": "stream",
     "text": [
      "抽菸\n"
     ]
    }
   ],
   "source": [
    "age = int(input(\"請輸入年齡:\"))\n",
    "if age >= 18:\n",
    "    print(\"抽菸\")\n",
    "else:\n",
    "    print(\"不抽\")"
   ]
  },
  {
   "cell_type": "code",
   "execution_count": 9,
   "id": "32dd938e",
   "metadata": {},
   "outputs": [
    {
     "name": "stdout",
     "output_type": "stream",
     "text": [
      "輸入有誤\n"
     ]
    }
   ],
   "source": [
    "try:\n",
    "    scores = int(input(\"請輸入學生分數(最高300分):\"))\n",
    "    is_add = input(\"是否加分?(y,n)\")\n",
    "    if(is_add == \"y\"):\n",
    "        scores *= 1.05\n",
    "        if scores > 300: #巢狀判斷\n",
    "            scores = 300\n",
    "    print(round(scores))\n",
    "except:\n",
    "    print(\"輸入有誤\")\n"
   ]
  },
  {
   "cell_type": "code",
   "execution_count": 4,
   "id": "59d7d664",
   "metadata": {},
   "outputs": [
    {
     "name": "stdout",
     "output_type": "stream",
     "text": [
      "超過300分\n"
     ]
    }
   ],
   "source": [
    "try:\n",
    "    scores = int(input(\"請輸入學生分數(最高300分):\"))\n",
    "    if scores > 300:\n",
    "        raise Exception(\"超過300分\")\n",
    "    is_add = input(\"是否加分?(y,n)\")\n",
    "    if(is_add == \"y\"):\n",
    "        scores *= 1.05\n",
    "        if scores > 300: #巢狀判斷\n",
    "            scores = 300\n",
    "    print(round(scores))\n",
    "except ValueError:\n",
    "    print(\"輸入有誤\")\n",
    "except Exception as e:  #as e(可自訂變數) 帶入raise的exception(\"自定義的錯誤\")\n",
    "    print(e)\n"
   ]
  },
  {
   "cell_type": "code",
   "execution_count": 5,
   "id": "1a8c305e",
   "metadata": {},
   "outputs": [
    {
     "name": "stdout",
     "output_type": "stream",
     "text": [
      "數值錯誤\n"
     ]
    }
   ],
   "source": [
    "num = int(input(\"輸入數值:\"))\n",
    "if num >=120 and num <= 220:\n",
    "    print(\"數值正確\")\n",
    "else:\n",
    "    print(\"數值錯誤\")"
   ]
  }
 ],
 "metadata": {
  "kernelspec": {
   "display_name": "base",
   "language": "python",
   "name": "python3"
  },
  "language_info": {
   "codemirror_mode": {
    "name": "ipython",
    "version": 3
   },
   "file_extension": ".py",
   "mimetype": "text/x-python",
   "name": "python",
   "nbconvert_exporter": "python",
   "pygments_lexer": "ipython3",
   "version": "3.12.9"
  }
 },
 "nbformat": 4,
 "nbformat_minor": 5
}
