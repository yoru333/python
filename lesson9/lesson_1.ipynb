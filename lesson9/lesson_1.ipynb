{
 "cells": [
  {
   "cell_type": "code",
   "execution_count": 7,
   "id": "65cc0907",
   "metadata": {},
   "outputs": [
    {
     "data": {
      "text/plain": [
       "75.0"
      ]
     },
     "execution_count": 7,
     "metadata": {},
     "output_type": "execute_result"
    }
   ],
   "source": [
    "\n",
    "class Person:\n",
    "    def __init__(self, name, chinese, english, math ):\n",
    "        self.name = name   # 儲存名字\n",
    "        self.chinese = chinese\n",
    "        self.english = english\n",
    "        self.math = math \n",
    "    def total(self):\n",
    "        return self.chinese + self.english + self.math\n",
    "    def average(self):\n",
    "        return round(self.total()/ 3.0, 2)\n",
    "    \n",
    "p1 = Person(\"robert\", 85, 65, 75)\n",
    "p1.total()\n",
    "p1.average()\n",
    "\n",
    "\n",
    "    "
   ]
  },
  {
   "cell_type": "markdown",
   "id": "9b7ab1d8",
   "metadata": {},
   "source": [
    "### iterable常見型態\n",
    "list（串列）\t[1, 2, 3]\t一個一個取出 1、2、3\n",
    "tuple（元組）\t(4, 5, 6)\t一個一個取出 4、5、6\n",
    "str（字串）\t\"abc\"\t一個一個取出 'a'、'b'、'c'\n",
    "dict（字典）\t{\"a\": 1, \"b\": 2}\t預設取出 key，也可以 .items() 同時取出 key 和 value\n",
    "set（集合）\t{7, 8, 9}\t一個一個取出 7、8、9（順序不一定）"
   ]
  },
  {
   "cell_type": "code",
   "execution_count": null,
   "id": "ed82a3b8",
   "metadata": {},
   "outputs": [
    {
     "name": "stdout",
     "output_type": "stream",
     "text": [
      "[89, 92, 74, 35, 67, 250]\n"
     ]
    }
   ],
   "source": [
    "list1 = [89, 92, 74, 35, 67]\n",
    "list1.append(250)\n",
    "list1.extend([99]) #末尾加入\n",
    "list1.pop() #刪除末尾資料\n",
    "print(list1)"
   ]
  }
 ],
 "metadata": {
  "kernelspec": {
   "display_name": "base",
   "language": "python",
   "name": "python3"
  },
  "language_info": {
   "codemirror_mode": {
    "name": "ipython",
    "version": 3
   },
   "file_extension": ".py",
   "mimetype": "text/x-python",
   "name": "python",
   "nbconvert_exporter": "python",
   "pygments_lexer": "ipython3",
   "version": "3.12.9"
  }
 },
 "nbformat": 4,
 "nbformat_minor": 5
}
