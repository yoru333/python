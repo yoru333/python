{
 "cells": [
  {
   "cell_type": "code",
   "execution_count": null,
   "id": "27a19c40",
   "metadata": {},
   "outputs": [
    {
     "name": "stdout",
     "output_type": "stream",
     "text": [
      "one\n",
      "two\n",
      "three\n",
      "four\n",
      "five\n",
      "1\n",
      "2\n",
      "3\n",
      "4\n",
      "5\n",
      "one 1\n",
      "two 2\n",
      "three 3\n",
      "four 4\n",
      "five 5\n"
     ]
    }
   ],
   "source": [
    "dict1 = {\"one\":1, \"two\":2, \"three\":3, \"four\":4, \"five\":5}\n",
    "dict1.get(\"one\")\n",
    "for key in dict1.keys(): \n",
    "    print(key)\n",
    "for value in dict1.values():\n",
    "    print(value)\n",
    "for key, value in dict1.items():\n",
    "    print(key,value)"
   ]
  }
 ],
 "metadata": {
  "kernelspec": {
   "display_name": "base",
   "language": "python",
   "name": "python3"
  },
  "language_info": {
   "codemirror_mode": {
    "name": "ipython",
    "version": 3
   },
   "file_extension": ".py",
   "mimetype": "text/x-python",
   "name": "python",
   "nbconvert_exporter": "python",
   "pygments_lexer": "ipython3",
   "version": "3.12.9"
  }
 },
 "nbformat": 4,
 "nbformat_minor": 5
}
