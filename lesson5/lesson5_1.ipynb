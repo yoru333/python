{
 "cells": [
  {
   "cell_type": "code",
   "execution_count": 1,
   "id": "7133b92e",
   "metadata": {},
   "outputs": [
    {
     "name": "stdout",
     "output_type": "stream",
     "text": [
      "丙\n"
     ]
    }
   ],
   "source": [
    "scores = int(input(\"請輸入學生分數0~100:\"))\n",
    "if scores > 60:\n",
    "    print(\"丁\")\n",
    "elif scores < 70:\n",
    "    print(\"丙\")\n",
    "elif scores < 80:\n",
    "    print(\"乙\")\n",
    "elif scores < 90:\n",
    "    print(\"甲\")\n",
    "else:\n",
    "    print(\"優\")"
   ]
  },
  {
   "cell_type": "code",
   "execution_count": 4,
   "id": "9379514b",
   "metadata": {},
   "outputs": [
    {
     "name": "stdout",
     "output_type": "stream",
     "text": [
      "沒錢,滾去讀書\n"
     ]
    }
   ],
   "source": [
    "vaule = int(input(\"請輸入學生國文成績:\"))\n",
    "vaule1 = int(input(\"請輸入數學成績:\"))\n",
    "if vaule == 100 and vaule1 == 100:\n",
    "    print(\"得到1000元\")\n",
    "elif vaule == 100 or vaule1 == 100:\n",
    "    print(\"得到500元\")\n",
    "else:\n",
    "    print(\"沒錢,滾去讀書\")"
   ]
  },
  {
   "cell_type": "code",
   "execution_count": null,
   "id": "28b6f375",
   "metadata": {},
   "outputs": [
    {
     "name": "stdout",
     "output_type": "stream",
     "text": [
      "55\n"
     ]
    }
   ],
   "source": [
    "total = 0\n",
    "for i in range(1, 11):\n",
    "    total += i\n",
    "print(total)\n"
   ]
  },
  {
   "cell_type": "code",
   "execution_count": 16,
   "id": "278e9fdb",
   "metadata": {},
   "outputs": [
    {
     "name": "stdout",
     "output_type": "stream",
     "text": [
      "total=5050\n"
     ]
    }
   ],
   "source": [
    "n = int(input(\"請輸入n值:\"))\n",
    "total = 0\n",
    "for i in range(1,n+1):\n",
    "    total += i\n",
    "print(f'total={total}')\n"
   ]
  },
  {
   "cell_type": "code",
   "execution_count": null,
   "id": "7da26ae0",
   "metadata": {},
   "outputs": [
    {
     "name": "stdout",
     "output_type": "stream",
     "text": [
      "i=1\n",
      "j=1 j=2 j=3 j=4 j=5 j=6 j=7 j=8 j=9 \n",
      "i=2\n",
      "j=1 j=2 j=3 j=4 j=5 j=6 j=7 j=8 j=9 \n",
      "i=3\n",
      "j=1 j=2 j=3 j=4 j=5 j=6 j=7 j=8 j=9 \n",
      "i=4\n",
      "j=1 j=2 j=3 j=4 j=5 j=6 j=7 j=8 j=9 \n",
      "i=5\n",
      "j=1 j=2 j=3 j=4 j=5 j=6 j=7 j=8 j=9 \n",
      "i=6\n",
      "j=1 j=2 j=3 j=4 j=5 j=6 j=7 j=8 j=9 \n",
      "i=7\n",
      "j=1 j=2 j=3 j=4 j=5 j=6 j=7 j=8 j=9 \n",
      "i=8\n",
      "j=1 j=2 j=3 j=4 j=5 j=6 j=7 j=8 j=9 \n",
      "i=9\n",
      "j=1 j=2 j=3 j=4 j=5 j=6 j=7 j=8 j=9 \n"
     ]
    }
   ],
   "source": [
    "#巢狀迴圈\n",
    "for i in range(1,10): \n",
    "    print(f'i={i}')\n",
    "    for j in range(1,10):\n",
    "        print(f'j={j}', end=' ')\n",
    "    print()\n"
   ]
  },
  {
   "cell_type": "code",
   "execution_count": 5,
   "id": "34e3fcd1",
   "metadata": {},
   "outputs": [
    {
     "name": "stdout",
     "output_type": "stream",
     "text": [
      "1*1=1\t1*2=2\t1*3=3\t1*4=4\t1*5=5\t1*6=6\t1*7=7\t1*8=8\t1*9=9\t\n",
      "2*1=2\t2*2=4\t2*3=6\t2*4=8\t2*5=10\t2*6=12\t2*7=14\t2*8=16\t2*9=18\t\n",
      "3*1=3\t3*2=6\t3*3=9\t3*4=12\t3*5=15\t3*6=18\t3*7=21\t3*8=24\t3*9=27\t\n",
      "4*1=4\t4*2=8\t4*3=12\t4*4=16\t4*5=20\t4*6=24\t4*7=28\t4*8=32\t4*9=36\t\n",
      "5*1=5\t5*2=10\t5*3=15\t5*4=20\t5*5=25\t5*6=30\t5*7=35\t5*8=40\t5*9=45\t\n",
      "6*1=6\t6*2=12\t6*3=18\t6*4=24\t6*5=30\t6*6=36\t6*7=42\t6*8=48\t6*9=54\t\n",
      "7*1=7\t7*2=14\t7*3=21\t7*4=28\t7*5=35\t7*6=42\t7*7=49\t7*8=56\t7*9=63\t\n",
      "8*1=8\t8*2=16\t8*3=24\t8*4=32\t8*5=40\t8*6=48\t8*7=56\t8*8=64\t8*9=72\t\n",
      "9*1=9\t9*2=18\t9*3=27\t9*4=36\t9*5=45\t9*6=54\t9*7=63\t9*8=72\t9*9=81\t\n"
     ]
    }
   ],
   "source": [
    "for i in range(1,10): \n",
    "    for j in range(1,10):\n",
    "        print(f'{i}*{j}={i*j}', end='\\t')\n",
    "    print()"
   ]
  },
  {
   "cell_type": "code",
   "execution_count": 2,
   "id": "ecc0ca9e",
   "metadata": {},
   "outputs": [
    {
     "name": "stdout",
     "output_type": "stream",
     "text": [
      "已存到30000元,你存了3個月\n"
     ]
    }
   ],
   "source": [
    "#while\n",
    "#建立變數-->是否執行迴圈\n",
    "vaule = 0\n",
    "month = 0\n",
    "while vaule < 30000:\n",
    "    vaule_1 = int(input(\"本月存款:\"))\n",
    "    vaule += vaule_1\n",
    "    month += 1\n",
    "print(f'已存到{vaule}元,你存了{month}個月')\n"
   ]
  },
  {
   "cell_type": "code",
   "execution_count": null,
   "id": "bbcb2fe6",
   "metadata": {},
   "outputs": [
    {
     "name": "stdout",
     "output_type": "stream",
     "text": [
      "5的平方是25\n",
      "5的平方是25\n",
      "7的平方是49\n"
     ]
    }
   ],
   "source": [
    "while True:\n",
    "    num = (input(\"輸入整數值,輸入[q]離開:\"))\n",
    "    if num == \"q\":\n",
    "        break\n",
    "    elif int(num) % 2 == 0: #偶數不做動作 \n",
    "        continue\n",
    "    else:\n",
    "        print(f'{num}的平方是{int(num) ** 2}')"
   ]
  },
  {
   "cell_type": "code",
   "execution_count": null,
   "id": "7b041acd",
   "metadata": {},
   "outputs": [
    {
     "name": "stdout",
     "output_type": "stream",
     "text": [
      "43\n",
      "=============猜數字遊戲===========\n",
      "\n",
      "再小一點\n",
      "您已經猜了1次\n",
      "請輸入提示範圍內的數字\n",
      "再大一點\n",
      "您已經猜了3次\n",
      "請輸入提示範圍內的數字\n"
     ]
    }
   ],
   "source": [
    "import random\n",
    "\n",
    "min = 1\n",
    "max = 99\n",
    "count = 0\n",
    "target = random.randint(min, max)\n",
    "print(target)\n",
    "print(\"=============猜數字遊戲===========\\n\")\n",
    "while(True):\n",
    "    count += 1\n",
    "    keyin = int(input(f\"猜數字範圍{min}~{max}:\"))\n",
    "    if(keyin >= min and keyin <= max):\n",
    "        if(keyin == target):\n",
    "            print(f\"賓果!猜對了, 答案是:{target}\")\n",
    "            print(f\"您猜了{count}次\")\n",
    "            break\n",
    "        elif(keyin>target):\n",
    "            print(\"再小一點\")\n",
    "            max = keyin - 1\n",
    "        elif(keyin<target):\n",
    "            print(\"再大一點\")\n",
    "            min = keyin + 1\n",
    "        print(f\"您已經猜了{count}次\") \n",
    "    else:\n",
    "        print(\"請輸入提示範圍內的數字\")\n",
    "\n",
    "print(\"遊戲結束\")"
   ]
  }
 ],
 "metadata": {
  "kernelspec": {
   "display_name": "base",
   "language": "python",
   "name": "python3"
  },
  "language_info": {
   "codemirror_mode": {
    "name": "ipython",
    "version": 3
   },
   "file_extension": ".py",
   "mimetype": "text/x-python",
   "name": "python",
   "nbconvert_exporter": "python",
   "pygments_lexer": "ipython3",
   "version": "3.12.9"
  }
 },
 "nbformat": 4,
 "nbformat_minor": 5
}
