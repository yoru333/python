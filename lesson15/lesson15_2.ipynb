{
 "cells": [
  {
   "cell_type": "code",
   "execution_count": null,
   "id": "1d9664e3",
   "metadata": {},
   "outputs": [],
   "source": [
    "import numpy as np\n",
    "import pandas as pd\n",
    "s1 = pd.Series(np.arange(50, 70)) #series只有index索引"
   ]
  },
  {
   "cell_type": "code",
   "execution_count": 14,
   "id": "da23ca9e",
   "metadata": {},
   "outputs": [
    {
     "data": {
      "text/plain": [
       "10    60\n",
       "11    61\n",
       "12    62\n",
       "13    63\n",
       "14    64\n",
       "15    65\n",
       "16    66\n",
       "17    67\n",
       "18    68\n",
       "19    69\n",
       "dtype: int64"
      ]
     },
     "execution_count": 14,
     "metadata": {},
     "output_type": "execute_result"
    }
   ],
   "source": [
    "mask = s1 >= 60\n",
    "s1[mask]\n"
   ]
  },
  {
   "cell_type": "code",
   "execution_count": 20,
   "id": "3a9e2b70",
   "metadata": {},
   "outputs": [
    {
     "data": {
      "text/plain": [
       "001     True\n",
       "002    False\n",
       "003     True\n",
       "004     True\n",
       "005     True\n",
       "dtype: bool"
      ]
     },
     "execution_count": 20,
     "metadata": {},
     "output_type": "execute_result"
    }
   ],
   "source": [
    "import numpy as np\n",
    "import pandas as pd\n",
    "data = np.random.randint(50, 101, size=(5,5))\n",
    "df = pd.DataFrame(data, index=[\"001\", \"002\", \"003\", \"004\", \"005\"], \n",
    "                  columns=[\"國文\", \"英文\",\"數學\", \"地理\", \"歷史\"])\n",
    "(df[\"歷史\"] >= 60) & (df[\"數學\"] >= 60) #只能用&\n"
   ]
  }
 ],
 "metadata": {
  "kernelspec": {
   "display_name": "base",
   "language": "python",
   "name": "python3"
  },
  "language_info": {
   "codemirror_mode": {
    "name": "ipython",
    "version": 3
   },
   "file_extension": ".py",
   "mimetype": "text/x-python",
   "name": "python",
   "nbconvert_exporter": "python",
   "pygments_lexer": "ipython3",
   "version": "3.12.9"
  }
 },
 "nbformat": 4,
 "nbformat_minor": 5
}
