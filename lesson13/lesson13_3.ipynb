{
 "cells": [
  {
   "cell_type": "code",
   "execution_count": null,
   "id": "f7f44651",
   "metadata": {},
   "outputs": [
    {
     "ename": "SyntaxError",
     "evalue": "invalid syntax. Maybe you meant '==' or ':=' instead of '='? (1000537509.py, line 28)",
     "output_type": "error",
     "traceback": [
      "  \u001b[36mCell\u001b[39m\u001b[36m \u001b[39m\u001b[32mIn[44]\u001b[39m\u001b[32m, line 28\u001b[39m\n\u001b[31m    \u001b[39m\u001b[31maxes.annotate(str(student2_y), (x,student2_y+1), xytext=(x, student2_y+5), arrowprops=dict{facecolor=\"red\", shrink=0.05})\u001b[39m\n                                                                                               ^\n\u001b[31mSyntaxError\u001b[39m\u001b[31m:\u001b[39m invalid syntax. Maybe you meant '==' or ':=' instead of '='?\n"
     ]
    }
   ],
   "source": [
    "from matplotlib.font_manager import fontManager\n",
    "import matplotlib as mpl\n",
    "import matplotlib.pyplot as plt\n",
    "fontManager.addfont(\"ChineseFont.ttf\")\n",
    "mpl.rc(\"font\", family=\"ChineseFont\")\n",
    "\n",
    "student1 = {'國文':78, '英文':80, '數學':92, '歷史':75, '探索':85}\n",
    "student2 = {'國文':90, '英文':75, '數學':98, '歷史':65, '探索':75}\n",
    "subject =list(student1.keys())\n",
    "student1_values = list(student1.values())\n",
    "student2_values = list(student2.values())\n",
    "\n",
    "figure = plt.figure(figsize=(8,5), dpi=130, facecolor=\"#cccccc\")\n",
    "axes = figure.add_subplot(1,1,1)\n",
    "plt.xlabel(\"科目\")\n",
    "plt.ylabel(\"分數\")\n",
    "plt.tight_layout()\n",
    "plt.plot(subject,student1_values, marker=\"^\", label=\"001\")\n",
    "plt.plot(subject,student2_values, marker=\"^\", label=\"002\")\n",
    "plt.legend()\n",
    "xlocation = axes.get_xticks() #返回 x 轴刻度的索引位置。\n",
    "for index in range(len(xlocation)):\n",
    "    x = xlocation[index] #得到x座標\n",
    "    student1_y = student1_values[index]\n",
    "    student2_y = student2_values[index]\n",
    "    axes.annotate(str(student1_y), (x,student1_y+1))  #annotate(str(要顯示文字),(x座標, y座標)) #顯示文字規定要字串 故使用str\n",
    "    if student2_y == 98:\n",
    "        axes.annotate(str(student2_y), (x,student2_y+1), xytext=(x, student2_y+5), arrowprops=dict(facecolor=\"red\", shrink=0.05))\n",
    "        #第一個(x,student2_y+1)代表箭頭指向的點, xytext 代表箭頭要表示的數值(箭頭尾巴)\n",
    "    else:\n",
    "        axes.annotate(str(student2_y), (x,student2_y+1))\n",
    "    axes.set_xlim(-0.5, 4.5) #調整x軸範圍 ex: -0.5~4.5\n",
    "    axes.set_ylim(60,105)\n",
    "plt.grid()\n",
    "plt.show()"
   ]
  }
 ],
 "metadata": {
  "kernelspec": {
   "display_name": "base",
   "language": "python",
   "name": "python3"
  },
  "language_info": {
   "codemirror_mode": {
    "name": "ipython",
    "version": 3
   },
   "file_extension": ".py",
   "mimetype": "text/x-python",
   "name": "python",
   "nbconvert_exporter": "python",
   "pygments_lexer": "ipython3",
   "version": "3.12.9"
  }
 },
 "nbformat": 4,
 "nbformat_minor": 5
}
