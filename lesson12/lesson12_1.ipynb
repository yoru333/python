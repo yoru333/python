{
 "cells": [
  {
   "cell_type": "code",
   "execution_count": 12,
   "id": "61577730",
   "metadata": {},
   "outputs": [
    {
     "name": "stdout",
     "output_type": "stream",
     "text": [
      "下載成功\n"
     ]
    }
   ],
   "source": [
    "import requests\n",
    "from requests import Response\n",
    "from requests import HTTPError,ConnectionError,Timeout,RequestException,JSONDecodeError\n",
    "\n",
    "\n",
    "def fetch_json(url):\n",
    "    try:\n",
    "        headers = {\n",
    "    'User-Agent': 'Mozilla/5.0 (Macintosh; Intel Mac OS X 10_15_7) AppleWebKit/537.36 (KHTML, like Gecko) Chrome/137.0.0.0 Safari/537.36'\n",
    "}\n",
    "        response:Response = requests.get(url,headers=headers)\n",
    "        response.raise_for_status()\n",
    "        print(\"下載成功\")\n",
    "        return response.json()\n",
    "    except HTTPError:\n",
    "        print(f\"警告：伺服器回應狀態碼為 {response.status_code}，請求未成功！\")\n",
    "    except ConnectionError:\n",
    "        print(\"網路連線異常，請檢查網路設定。\")\n",
    "    except Timeout:\n",
    "        print(\"請求逾時，請稍後再試。\")\n",
    "    except RequestException as e:\n",
    "        print(f\"請求發生錯誤：{e}\")\n",
    "    except Exception:\n",
    "        print(\"不知名的錯誤\")\n",
    "    \n",
    "url: str = 'https://tcgbusfs.blob.core.windows.net/dotapp/youbike/v2/youbike_immediate.json'\n",
    "data = fetch_json(url=url)\n",
    "    \n"
   ]
  },
  {
   "cell_type": "code",
   "execution_count": null,
   "id": "02b73a62",
   "metadata": {},
   "outputs": [],
   "source": []
  }
 ],
 "metadata": {
  "kernelspec": {
   "display_name": "base",
   "language": "python",
   "name": "python3"
  },
  "language_info": {
   "codemirror_mode": {
    "name": "ipython",
    "version": 3
   },
   "file_extension": ".py",
   "mimetype": "text/x-python",
   "name": "python",
   "nbconvert_exporter": "python",
   "pygments_lexer": "ipython3",
   "version": "3.12.9"
  }
 },
 "nbformat": 4,
 "nbformat_minor": 5
}
