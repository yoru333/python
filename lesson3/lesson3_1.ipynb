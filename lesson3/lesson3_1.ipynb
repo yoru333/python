{
 "cells": [
  {
   "cell_type": "code",
   "execution_count": 1,
   "id": "cf5e2359",
   "metadata": {},
   "outputs": [
    {
     "name": "stdout",
     "output_type": "stream",
     "text": [
      "您輸入的整數是: 500\n"
     ]
    }
   ],
   "source": [
    "vaule = input(\"請輸入整數:\")\n",
    "vaule_1 = int(vaule)\n",
    "print(\"您輸入的整數是:\", vaule_1)"
   ]
  },
  {
   "cell_type": "code",
   "execution_count": 2,
   "id": "ce193241",
   "metadata": {},
   "outputs": [
    {
     "name": "stdout",
     "output_type": "stream",
     "text": [
      "相加的結果是: 40\n"
     ]
    }
   ],
   "source": [
    "vaule = int(input(\"請輸入第1整數:\"))\n",
    "vaule1 = int(input(\"請輸入第2整數:\"))\n",
    "total = vaule + vaule1\n",
    "print(\"相加的結果是:\", total)"
   ]
  },
  {
   "cell_type": "code",
   "execution_count": 3,
   "id": "be9e71d9",
   "metadata": {},
   "outputs": [
    {
     "name": "stdout",
     "output_type": "stream",
     "text": [
      "面積: 15\n"
     ]
    }
   ],
   "source": [
    "width = eval(input(\"請輸入邊寬:\"))\n",
    "hight = eval(input(\"請輸入高度:\"))\n",
    "area = width * hight\n",
    "print(\"面積:\", area)\n"
   ]
  },
  {
   "cell_type": "code",
   "execution_count": 1,
   "id": "808bd15a",
   "metadata": {},
   "outputs": [
    {
     "name": "stdout",
     "output_type": "stream",
     "text": [
      "15\n"
     ]
    }
   ],
   "source": [
    "n = 5\n",
    "n += 10\n",
    "print(n)"
   ]
  },
  {
   "cell_type": "code",
   "execution_count": 4,
   "id": "55af780a",
   "metadata": {},
   "outputs": [
    {
     "name": "stdout",
     "output_type": "stream",
     "text": [
      "鄰邊: 3\n",
      "對邊: 4\n",
      "斜邊: 5.0\n"
     ]
    }
   ],
   "source": [
    "import math\n",
    "side = eval(input(\"請輸入鄰邊:\"))\n",
    "another_side = eval(input(\"請輸入對邊\"))\n",
    "result = math.sqrt(side ** 2 + another_side ** 2)\n",
    "print(\"鄰邊:\", side)\n",
    "print(\"對邊:\", another_side)\n",
    "print(\"斜邊:\", result)"
   ]
  },
  {
   "cell_type": "code",
   "execution_count": 7,
   "id": "15c85b84",
   "metadata": {},
   "outputs": [
    {
     "name": "stdout",
     "output_type": "stream",
     "text": [
      " 對邊:5 鄰邊:3 角度:36.87\n"
     ]
    }
   ],
   "source": [
    "import math\n",
    "side = eval(input(\"請輸入鄰邊:\"))\n",
    "another_side = eval(input(\"請輸入對邊\"))\n",
    "radian = math.asin(side/another_side)\n",
    "degree = math.degrees(radian)\n",
    "print(f\" 對邊:{another_side} 鄰邊:{side} 角度:{degree:.2f}\") #字串插補 "
   ]
  },
  {
   "cell_type": "code",
   "execution_count": null,
   "id": "121f8b56",
   "metadata": {},
   "outputs": [],
   "source": [
    "\n"
   ]
  }
 ],
 "metadata": {
  "kernelspec": {
   "display_name": "base",
   "language": "python",
   "name": "python3"
  },
  "language_info": {
   "codemirror_mode": {
    "name": "ipython",
    "version": 3
   },
   "file_extension": ".py",
   "mimetype": "text/x-python",
   "name": "python",
   "nbconvert_exporter": "python",
   "pygments_lexer": "ipython3",
   "version": "3.12.9"
  }
 },
 "nbformat": 4,
 "nbformat_minor": 5
}
